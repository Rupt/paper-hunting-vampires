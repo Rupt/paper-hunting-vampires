{
 "cells": [
  {
   "cell_type": "markdown",
   "id": "b888c354",
   "metadata": {},
   "source": [
    "# Rotated PV-mSME: extra studies"
   ]
  },
  {
   "cell_type": "code",
   "execution_count": 1,
   "id": "841f0b6c",
   "metadata": {},
   "outputs": [],
   "source": [
    "import numpy\n",
    "from matplotlib import pyplot"
   ]
  },
  {
   "cell_type": "markdown",
   "id": "217a7d73",
   "metadata": {},
   "source": [
    "# Plot visible cross-section against hour of rotation.\n",
    "\n",
    "The non-rotating PV-mSME is at 0 (and 24)."
   ]
  },
  {
   "cell_type": "code",
   "execution_count": 2,
   "id": "016943c1",
   "metadata": {},
   "outputs": [
    {
     "data": {
      "image/png": "[encoded data removed]",
      "text/plain": [
       "<Figure size 432x288 with 1 Axes>"
      ]
     },
     "metadata": {
      "needs_background": "light"
     },
     "output_type": "display_data"
    }
   ],
   "source": [
    "def plot_xs():\n",
    "    hour, xs_pre, *_ = numpy.loadtxt(\n",
    "        \"results/rot_xs.csv\", skiprows=1, delimiter=\",\",\n",
    "    ).T\n",
    "    _, nsamples, ngenerated = numpy.loadtxt(\n",
    "        \"results/rot_acceptance_truth.csv\", skiprows=1, delimiter=\",\",\n",
    "    ).T\n",
    "    acc = nsamples / ngenerated\n",
    "    xs = xs_pre * acc\n",
    "    \n",
    "    pyplot.scatter(hour, xs, color=\"k\", marker=\".\", lw=0, s=200)\n",
    "    pyplot.xlim(0, 24)\n",
    "    pyplot.ylabel(\"xs (pb)\")\n",
    "    pyplot.ylim(0)\n",
    "    pyplot.show()\n",
    "    \n",
    "    \n",
    "plot_xs()"
   ]
  },
  {
   "cell_type": "markdown",
   "id": "9a61db1f",
   "metadata": {},
   "source": [
    "# Inspect the hour-dependence of results in a fitted model.\n",
    "\n",
    "This loosely follows content from `parity_tests/jet_net_test_rot.py"
   ]
  },
  {
   "cell_type": "code",
   "execution_count": 3,
   "id": "d267a24b",
   "metadata": {},
   "outputs": [],
   "source": [
    "import os\n",
    "import sys\n",
    "import glob\n",
    "\n",
    "import h5py\n",
    "import jax\n",
    "\n",
    "from parity_tests import jet_lib, jet_net_lib\n",
    "from parity_tests.jet_lib import load_rot, load_rot_xs\n",
    "from parity_tests.jet_net_lib import make_net, parity_flip_jax, prescale, zeta_20_20_10"
   ]
  },
  {
   "cell_type": "code",
   "execution_count": 4,
   "id": "417306c1",
   "metadata": {},
   "outputs": [],
   "source": [
    "# UPDATE FOR YOUR LOCAL SYSTEM\n",
    "DATAPATH = \"/home/tombs/Downloads/paper-hunting-vampires-zenodo/data/\""
   ]
  },
  {
   "cell_type": "code",
   "execution_count": 5,
   "id": "5acb0aa0",
   "metadata": {},
   "outputs": [],
   "source": [
    "def evaluate_net(model_path, data):\n",
    "    params, meta = jet_net_lib.fit_load(model_path)\n",
    "\n",
    "    net = make_net(zeta_20_20_10)\n",
    "\n",
    "    pre_loc, pre_scale = meta[\"prescale\"].values()\n",
    "    pre_loc = jax.numpy.array(pre_loc, dtype=numpy.float32)\n",
    "    pre_scale = jax.numpy.array(pre_scale, dtype=numpy.float32)\n",
    "\n",
    "    @jax.jit\n",
    "    def net_phi(params, x):\n",
    "        x = prescale(x, pre_loc, pre_scale)\n",
    "        zeta = net.net\n",
    "        phi_1 = zeta.apply(params, x) - zeta.apply(params, parity_flip_jax(x))\n",
    "        return phi_1.ravel()\n",
    "\n",
    "    return numpy.array(net_phi(params, data))"
   ]
  },
  {
   "cell_type": "code",
   "execution_count": 6,
   "id": "e230b48f",
   "metadata": {},
   "outputs": [
    {
     "name": "stderr",
     "output_type": "stream",
     "text": [
      "WARNING:absl:No GPU/TPU found, falling back to CPU. (Set TF_CPP_MIN_LOG_LEVEL=0 and rerun for more info.)\n"
     ]
    }
   ],
   "source": [
    "def load_data_and_phi():\n",
    "    data_path = os.path.join(DATAPATH, \"truth-jet-rot\")\n",
    "    model_path = \"results/models/rot/\"\n",
    "    ntest = 6_000_000\n",
    "    \n",
    "    xs = load_rot_xs()\n",
    "    probs = xs / xs.sum()\n",
    "\n",
    "    rng = numpy.random.Generator(numpy.random.Philox(31415))\n",
    "\n",
    "    path = os.path.join(data_path, \"private_test\")\n",
    "    nper = rng.multinomial(ntest, probs)\n",
    "    data = load_rot(path, nper=nper)\n",
    "    \n",
    "    phi = evaluate_net(model_path, data)\n",
    "    \n",
    "    return data, phi\n",
    "\n",
    "\n",
    "DATA, PHI = load_data_and_phi()"
   ]
  },
  {
   "cell_type": "code",
   "execution_count": 7,
   "id": "15d38ebe",
   "metadata": {},
   "outputs": [
    {
     "name": "stdout",
     "output_type": "stream",
     "text": [
      "7.598517407973592e-06\n"
     ]
    },
    {
     "data": {
      "image/png": "[encoded data removed]",
      "text/plain": [
       "<Figure size 432x288 with 1 Axes>"
      ]
     },
     "metadata": {
      "needs_background": "light"
     },
     "output_type": "display_data"
    }
   ],
   "source": [
    "def plot():\n",
    "    sin, cos = DATA[:, -2:].T\n",
    "    theta = numpy.arctan2(sin, cos) % (2 * numpy.pi)\n",
    "    # we only have small rounding errors from float32 operations\n",
    "    hour = numpy.round(theta / (2 * numpy.pi) * 24)\n",
    "        \n",
    "    quality_i = (-numpy.logaddexp(0, -PHI) - numpy.log(0.5)) / len(PHI)\n",
    "    \n",
    "    print(quality_i.sum())\n",
    "    \n",
    "    pyplot.hist(\n",
    "        hour,\n",
    "        bins=24,\n",
    "        range=(0, 24),\n",
    "        weights=quality_i,\n",
    "        histtype=\"step\",\n",
    "    )\n",
    "    pyplot.axhline(0, color=\"k\")\n",
    "    pyplot.xlim(0, 24)\n",
    "    pyplot.show()\n",
    "\n",
    "plot()"
   ]
  }
 ],
 "metadata": {
  "kernelspec": {
   "display_name": "Python 3 (ipykernel)",
   "language": "python",
   "name": "python3"
  },
  "language_info": {
   "codemirror_mode": {
    "name": "ipython",
    "version": 3
   },
   "file_extension": ".py",
   "mimetype": "text/x-python",
   "name": "python",
   "nbconvert_exporter": "python",
   "pygments_lexer": "ipython3",
   "version": "3.9.12"
  }
 },
 "nbformat": 4,
 "nbformat_minor": 5
}
